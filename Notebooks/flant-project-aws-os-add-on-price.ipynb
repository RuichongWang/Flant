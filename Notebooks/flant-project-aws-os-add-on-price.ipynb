{
 "cells": [
  {
   "cell_type": "markdown",
   "id": "amino-beverage",
   "metadata": {
    "papermill": {
     "duration": 0.004848,
     "end_time": "2021-05-19T01:48:35.438539",
     "exception": false,
     "start_time": "2021-05-19T01:48:35.433691",
     "status": "completed"
    },
    "tags": []
   },
   "source": [
    "## AWS Spot Price Add-on Price Analysis\n",
    "\n",
    "Alex\n",
    "\n",
    "Created on: 04/26/2021"
   ]
  },
  {
   "cell_type": "code",
   "execution_count": 1,
   "id": "enclosed-bearing",
   "metadata": {
    "execution": {
     "iopub.execute_input": "2021-05-19T01:48:35.451299Z",
     "iopub.status.busy": "2021-05-19T01:48:35.450163Z",
     "iopub.status.idle": "2021-05-19T01:48:37.363160Z",
     "shell.execute_reply": "2021-05-19T01:48:37.363645Z"
    },
    "papermill": {
     "duration": 1.921394,
     "end_time": "2021-05-19T01:48:37.363946",
     "exception": false,
     "start_time": "2021-05-19T01:48:35.442552",
     "status": "completed"
    },
    "tags": []
   },
   "outputs": [
    {
     "name": "stdout",
     "output_type": "stream",
     "text": [
      "(1860, 3)\n"
     ]
    },
    {
     "data": {
      "text/html": [
       "<div>\n",
       "<style scoped>\n",
       "    .dataframe tbody tr th:only-of-type {\n",
       "        vertical-align: middle;\n",
       "    }\n",
       "\n",
       "    .dataframe tbody tr th {\n",
       "        vertical-align: top;\n",
       "    }\n",
       "\n",
       "    .dataframe thead th {\n",
       "        text-align: right;\n",
       "    }\n",
       "</style>\n",
       "<table border=\"1\" class=\"dataframe\">\n",
       "  <thead>\n",
       "    <tr style=\"text-align: right;\">\n",
       "      <th></th>\n",
       "      <th></th>\n",
       "      <th>Linux/UNIX</th>\n",
       "      <th>Red Hat Enterprise Linux</th>\n",
       "      <th>SUSE Linux</th>\n",
       "    </tr>\n",
       "    <tr>\n",
       "      <th>AvailabilityZone</th>\n",
       "      <th>InstanceType</th>\n",
       "      <th></th>\n",
       "      <th></th>\n",
       "      <th></th>\n",
       "    </tr>\n",
       "  </thead>\n",
       "  <tbody>\n",
       "    <tr>\n",
       "      <th rowspan=\"5\" valign=\"top\">us-east-1a</th>\n",
       "      <th>a1.2xlarge</th>\n",
       "      <td>0.0671</td>\n",
       "      <td>0.1971</td>\n",
       "      <td>0.2171</td>\n",
       "    </tr>\n",
       "    <tr>\n",
       "      <th>a1.4xlarge</th>\n",
       "      <td>0.1343</td>\n",
       "      <td>0.2643</td>\n",
       "      <td>0.2843</td>\n",
       "    </tr>\n",
       "    <tr>\n",
       "      <th>a1.large</th>\n",
       "      <td>0.0168</td>\n",
       "      <td>0.0768</td>\n",
       "      <td>0.0798</td>\n",
       "    </tr>\n",
       "    <tr>\n",
       "      <th>a1.medium</th>\n",
       "      <td>0.0084</td>\n",
       "      <td>0.0684</td>\n",
       "      <td>0.0394</td>\n",
       "    </tr>\n",
       "    <tr>\n",
       "      <th>a1.metal</th>\n",
       "      <td>0.1343</td>\n",
       "      <td>0.2643</td>\n",
       "      <td>0.2843</td>\n",
       "    </tr>\n",
       "  </tbody>\n",
       "</table>\n",
       "</div>"
      ],
      "text/plain": [
       "                               Linux/UNIX  Red Hat Enterprise Linux  \\\n",
       "AvailabilityZone InstanceType                                         \n",
       "us-east-1a       a1.2xlarge        0.0671                    0.1971   \n",
       "                 a1.4xlarge        0.1343                    0.2643   \n",
       "                 a1.large          0.0168                    0.0768   \n",
       "                 a1.medium         0.0084                    0.0684   \n",
       "                 a1.metal          0.1343                    0.2643   \n",
       "\n",
       "                               SUSE Linux  \n",
       "AvailabilityZone InstanceType              \n",
       "us-east-1a       a1.2xlarge        0.2171  \n",
       "                 a1.4xlarge        0.2843  \n",
       "                 a1.large          0.0798  \n",
       "                 a1.medium         0.0394  \n",
       "                 a1.metal          0.2843  "
      ]
     },
     "execution_count": 1,
     "metadata": {},
     "output_type": "execute_result"
    }
   ],
   "source": [
    "import datetime as dt\n",
    "\n",
    "import numpy as np # linear algebra\n",
    "import pandas as pd # data processing, CSV file I/O (e.g. pd.read_csv)\n",
    "\n",
    "import warnings\n",
    "\n",
    "data = pd.read_csv(\"../input/aws-spot-price-15th-feb16th-april-2021/us-east-1_Feb15-Apr16.csv\")\n",
    "data['Timestamp'] = pd.to_datetime(data['Timestamp'], format = '%Y-%m-%d %H:%M:%S.%f')\n",
    "data=data.groupby(['AvailabilityZone','InstanceType','ProductDescription'],as_index=False)['SpotPrice'].min()\n",
    "data=data.pivot(index=['AvailabilityZone','InstanceType'],columns=['ProductDescription'])\n",
    "data.columns=[x[1] for x in data.columns]\n",
    "data.drop('Windows',axis=1,inplace=True)\n",
    "\n",
    "print(data.shape)\n",
    "data.head()"
   ]
  },
  {
   "cell_type": "code",
   "execution_count": 2,
   "id": "developmental-status",
   "metadata": {
    "execution": {
     "iopub.execute_input": "2021-05-19T01:48:37.379139Z",
     "iopub.status.busy": "2021-05-19T01:48:37.378512Z",
     "iopub.status.idle": "2021-05-19T01:48:37.420598Z",
     "shell.execute_reply": "2021-05-19T01:48:37.420093Z"
    },
    "papermill": {
     "duration": 0.051816,
     "end_time": "2021-05-19T01:48:37.420739",
     "exception": false,
     "start_time": "2021-05-19T01:48:37.368923",
     "status": "completed"
    },
    "tags": []
   },
   "outputs": [
    {
     "data": {
      "text/html": [
       "<div>\n",
       "<style scoped>\n",
       "    .dataframe tbody tr th:only-of-type {\n",
       "        vertical-align: middle;\n",
       "    }\n",
       "\n",
       "    .dataframe tbody tr th {\n",
       "        vertical-align: top;\n",
       "    }\n",
       "\n",
       "    .dataframe thead th {\n",
       "        text-align: right;\n",
       "    }\n",
       "</style>\n",
       "<table border=\"1\" class=\"dataframe\">\n",
       "  <thead>\n",
       "    <tr style=\"text-align: right;\">\n",
       "      <th></th>\n",
       "      <th>AvailabilityZone</th>\n",
       "      <th>InstanceType</th>\n",
       "      <th>SUSE_Linux_price_diff</th>\n",
       "    </tr>\n",
       "  </thead>\n",
       "  <tbody>\n",
       "    <tr>\n",
       "      <th>0</th>\n",
       "      <td>us-east-1a</td>\n",
       "      <td>a1.2xlarge</td>\n",
       "      <td>0.150</td>\n",
       "    </tr>\n",
       "    <tr>\n",
       "      <th>1</th>\n",
       "      <td>us-east-1a</td>\n",
       "      <td>a1.4xlarge</td>\n",
       "      <td>0.150</td>\n",
       "    </tr>\n",
       "    <tr>\n",
       "      <th>2</th>\n",
       "      <td>us-east-1a</td>\n",
       "      <td>a1.large</td>\n",
       "      <td>0.063</td>\n",
       "    </tr>\n",
       "    <tr>\n",
       "      <th>3</th>\n",
       "      <td>us-east-1a</td>\n",
       "      <td>a1.medium</td>\n",
       "      <td>0.031</td>\n",
       "    </tr>\n",
       "    <tr>\n",
       "      <th>4</th>\n",
       "      <td>us-east-1a</td>\n",
       "      <td>a1.metal</td>\n",
       "      <td>0.150</td>\n",
       "    </tr>\n",
       "    <tr>\n",
       "      <th>...</th>\n",
       "      <td>...</td>\n",
       "      <td>...</td>\n",
       "      <td>...</td>\n",
       "    </tr>\n",
       "    <tr>\n",
       "      <th>1855</th>\n",
       "      <td>us-east-1f</td>\n",
       "      <td>z1d.3xlarge</td>\n",
       "      <td>0.150</td>\n",
       "    </tr>\n",
       "    <tr>\n",
       "      <th>1856</th>\n",
       "      <td>us-east-1f</td>\n",
       "      <td>z1d.6xlarge</td>\n",
       "      <td>0.150</td>\n",
       "    </tr>\n",
       "    <tr>\n",
       "      <th>1857</th>\n",
       "      <td>us-east-1f</td>\n",
       "      <td>z1d.large</td>\n",
       "      <td>0.063</td>\n",
       "    </tr>\n",
       "    <tr>\n",
       "      <th>1858</th>\n",
       "      <td>us-east-1f</td>\n",
       "      <td>z1d.metal</td>\n",
       "      <td>0.150</td>\n",
       "    </tr>\n",
       "    <tr>\n",
       "      <th>1859</th>\n",
       "      <td>us-east-1f</td>\n",
       "      <td>z1d.xlarge</td>\n",
       "      <td>0.125</td>\n",
       "    </tr>\n",
       "  </tbody>\n",
       "</table>\n",
       "<p>1860 rows × 3 columns</p>\n",
       "</div>"
      ],
      "text/plain": [
       "     AvailabilityZone InstanceType  SUSE_Linux_price_diff\n",
       "0          us-east-1a   a1.2xlarge                  0.150\n",
       "1          us-east-1a   a1.4xlarge                  0.150\n",
       "2          us-east-1a     a1.large                  0.063\n",
       "3          us-east-1a    a1.medium                  0.031\n",
       "4          us-east-1a     a1.metal                  0.150\n",
       "...               ...          ...                    ...\n",
       "1855       us-east-1f  z1d.3xlarge                  0.150\n",
       "1856       us-east-1f  z1d.6xlarge                  0.150\n",
       "1857       us-east-1f    z1d.large                  0.063\n",
       "1858       us-east-1f    z1d.metal                  0.150\n",
       "1859       us-east-1f   z1d.xlarge                  0.125\n",
       "\n",
       "[1860 rows x 3 columns]"
      ]
     },
     "execution_count": 2,
     "metadata": {},
     "output_type": "execute_result"
    }
   ],
   "source": [
    "res=pd.DataFrame(data['SUSE Linux']-data['Linux/UNIX'],columns=['SUSE_Linux_price_diff']).reset_index()\n",
    "res.to_csv('SUSE_Linux_price_diff.csv',index=False)\n",
    "res"
   ]
  },
  {
   "cell_type": "code",
   "execution_count": null,
   "id": "headed-serbia",
   "metadata": {
    "papermill": {
     "duration": 0.005204,
     "end_time": "2021-05-19T01:48:37.431516",
     "exception": false,
     "start_time": "2021-05-19T01:48:37.426312",
     "status": "completed"
    },
    "tags": []
   },
   "outputs": [],
   "source": []
  }
 ],
 "metadata": {
  "kernelspec": {
   "display_name": "Python 3",
   "language": "python",
   "name": "python3"
  },
  "language_info": {
   "codemirror_mode": {
    "name": "ipython",
    "version": 3
   },
   "file_extension": ".py",
   "mimetype": "text/x-python",
   "name": "python",
   "nbconvert_exporter": "python",
   "pygments_lexer": "ipython3",
   "version": "3.7.9"
  },
  "papermill": {
   "default_parameters": {},
   "duration": 8.998419,
   "end_time": "2021-05-19T01:48:38.046799",
   "environment_variables": {},
   "exception": null,
   "input_path": "__notebook__.ipynb",
   "output_path": "__notebook__.ipynb",
   "parameters": {},
   "start_time": "2021-05-19T01:48:29.048380",
   "version": "2.3.2"
  }
 },
 "nbformat": 4,
 "nbformat_minor": 5
}
